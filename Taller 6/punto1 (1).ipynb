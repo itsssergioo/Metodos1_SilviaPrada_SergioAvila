{
  "nbformat": 4,
  "nbformat_minor": 0,
  "metadata": {
    "colab": {
      "provenance": []
    },
    "kernelspec": {
      "name": "python3",
      "display_name": "Python 3"
    },
    "language_info": {
      "name": "python"
    }
  },
  "cells": [
    {
      "cell_type": "code",
      "execution_count": 1,
      "metadata": {
        "id": "B0wmAsV3MJ3v"
      },
      "outputs": [],
      "source": [
        "import numpy as np"
      ]
    },
    {
      "cell_type": "code",
      "source": [
        "M = np.array([[3,-1,-1],[-1.,3.,1.],[2,1,4]])\n",
        "b = np.array([1.,3.,7.])"
      ],
      "metadata": {
        "id": "jmMUHn3QQhMZ"
      },
      "execution_count": 2,
      "outputs": []
    },
    {
      "cell_type": "code",
      "source": [
        "def gauss_seidel(M, b, error=1e-16, maxit=10000):\n",
        "    res= \"No se puede solucionar\"\n",
        "    it=0\n",
        "    seguir=True\n",
        "    n = M.shape[0]\n",
        "    x = np.zeros(n)\n",
        "    while it<maxit and seguir:\n",
        "        x2 = x.copy()\n",
        "        for j in range(n):\n",
        "            s1 = sum(M[j][k]*x2[k] for k in range(j))\n",
        "            s2 = sum(M[j][k]*x[k] for k in range(j+1, n))\n",
        "            x2[j] = (b[j] - s1 - s2)/M[j][j]\n",
        "        if max(abs(x2[k]-x[k]) for k in range(n)) < error:\n",
        "            res= x2\n",
        "            seguir=False\n",
        "        x = x2\n",
        "        it+=1\n",
        "    print(res, it)"
      ],
      "metadata": {
        "id": "kHhDTUFeMRRl"
      },
      "execution_count": 3,
      "outputs": []
    },
    {
      "cell_type": "code",
      "source": [
        "gauss_seidel(M,b)"
      ],
      "metadata": {
        "colab": {
          "base_uri": "https://localhost:8080/"
        },
        "id": "-6G4UWpjMXIV",
        "outputId": "e6b8c3f2-1e47-48e4-e59b-99f0f4ce59f6"
      },
      "execution_count": 4,
      "outputs": [
        {
          "output_type": "stream",
          "name": "stdout",
          "text": [
            "[1. 1. 1.] 28\n"
          ]
        }
      ]
    },
    {
      "cell_type": "code",
      "source": [
        "np.linalg.solve(M,b)"
      ],
      "metadata": {
        "colab": {
          "base_uri": "https://localhost:8080/"
        },
        "id": "hRFL_wFFMao4",
        "outputId": "3650f28d-dc03-419c-a08f-f2dfc5684a3a"
      },
      "execution_count": 5,
      "outputs": [
        {
          "output_type": "execute_result",
          "data": {
            "text/plain": [
              "array([1., 1., 1.])"
            ]
          },
          "metadata": {},
          "execution_count": 5
        }
      ]
    }
  ]
}