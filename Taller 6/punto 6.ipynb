{
  "nbformat": 4,
  "nbformat_minor": 0,
  "metadata": {
    "colab": {
      "provenance": []
    },
    "kernelspec": {
      "name": "python3",
      "display_name": "Python 3"
    },
    "language_info": {
      "name": "python"
    }
  },
  "cells": [
    {
      "cell_type": "code",
      "execution_count": 2,
      "metadata": {
        "id": "VIeduHy0wFIh"
      },
      "outputs": [],
      "source": [
        "import numpy as np\n",
        "import matplotlib.pyplot as plt\n",
        "from IPython.display import clear_output\n",
        "import time"
      ]
    },
    {
      "cell_type": "code",
      "source": [
        "#Gradiente descendiente\n",
        "\n",
        "G=(lambda x,y: np.log(x**2+y**2) - np.sin(x*y), \\\n",
        "   lambda x,y: np.exp(x-y) + np.cos(x*y))"
      ],
      "metadata": {
        "id": "84JkGDwdwu8R"
      },
      "execution_count": 3,
      "outputs": []
    },
    {
      "cell_type": "code",
      "source": [
        "def GetVectorF(G,r):\n",
        "    \n",
        "    dim = len(G)\n",
        "    \n",
        "    v = np.zeros(dim)\n",
        "    \n",
        "    for i in range(dim):\n",
        "        v[i] = G[i](r[0],r[1])\n",
        "        \n",
        "    return v"
      ],
      "metadata": {
        "id": "nBfpk2HUxC3W"
      },
      "execution_count": 4,
      "outputs": []
    },
    {
      "cell_type": "code",
      "source": [
        "def GetJacobian(G,r,h=1e-6):\n",
        "    \n",
        "    dim = len(G)\n",
        "    \n",
        "    J = np.zeros((dim,dim))\n",
        "    \n",
        "    for i in range(dim):\n",
        "        J[i,0] = (  G[i](r[0]+h,r[1]) - G[i](r[0]-h,r[1]) )/(2*h)\n",
        "        J[i,1] = (  G[i](r[0],r[1]+h) - G[i](r[0],r[1]-h) )/(2*h)\n",
        "        \n",
        "        \n",
        "    return J.T"
      ],
      "metadata": {
        "id": "9VGBNINWxTEO"
      },
      "execution_count": 5,
      "outputs": []
    },
    {
      "cell_type": "code",
      "source": [
        "def GetMetric(G,r):\n",
        "    v = GetVectorF(G,r)\n",
        "    return 0.5*np.linalg.norm(v)**2"
      ],
      "metadata": {
        "id": "r1Y5KIwqxXoO"
      },
      "execution_count": 6,
      "outputs": []
    },
    {
      "cell_type": "code",
      "source": [
        "def GetFig(F,R,it):\n",
        "    \n",
        "    fig = plt.figure(figsize=(8,4))\n",
        "    \n",
        "    labels = ['X','Y']\n",
        "    \n",
        "    ax = fig.add_subplot(1,2,1)\n",
        "    ax1 = fig.add_subplot(1,2,2)\n",
        "\n",
        "    ax.set_title('Metric: %.20f' %(F[it]))\n",
        "\n",
        "    ax.plot(F[:it])\n",
        "    ax.set_xlabel('%.0f' %(it))\n",
        "    ax.set_yscale('log')\n",
        "    ax1.plot(R[:it],label=labels)\n",
        "    ax1.set_xlabel('%.0f' %(it))\n",
        "    ax1.legend(loc=0)\n",
        "    \n",
        "    plt.show()"
      ],
      "metadata": {
        "id": "tfYPOgqNxYIK"
      },
      "execution_count": 7,
      "outputs": []
    },
    {
      "cell_type": "code",
      "source": [
        "def GetSolve(G,r,lr=1e-3,epochs=int(1e5),error=1e-7):\n",
        "    d = 1\n",
        "    it = 0\n",
        "    Vector_F = np.array([])\n",
        "    R_vector = np.array(r)\n",
        "    while d > error and it < epochs:\n",
        "        \n",
        "        CurrentF = GetMetric(G,r)\n",
        "        J = GetJacobian(G,r)\n",
        "        GVector = GetVectorF(G,r)\n",
        "        #Machine Learning\n",
        "        r -= lr*np.dot(J,GVector) \n",
        "        R_vector = np.vstack((R_vector,r))\n",
        "        NewF = GetMetric(G,r)\n",
        "        Vector_F = np.append(Vector_F,NewF)\n",
        "        d = np.abs( CurrentF - NewF )/NewF\n",
        "\n",
        "        it += 1\n",
        "        \n",
        "    if it == epochs:\n",
        "        print(' Entrenamiento no completado ')\n",
        "    \n",
        "    GetFig(Vector_F,R_vector,it-1)    \n",
        "    return r,it"
      ],
      "metadata": {
        "id": "WurK_9m6xmyJ"
      },
      "execution_count": 8,
      "outputs": []
    },
    {
      "cell_type": "code",
      "source": [
        "xsol,it= GetSolve(G,[2,2])"
      ],
      "metadata": {
        "colab": {
          "base_uri": "https://localhost:8080/",
          "height": 295
        },
        "id": "cXHO8XR3xnYE",
        "outputId": "8a403df9-e019-45d8-84d5-80928c24f52a"
      },
      "execution_count": 9,
      "outputs": [
        {
          "output_type": "display_data",
          "data": {
            "text/plain": [
              "<Figure size 576x288 with 2 Axes>"
            ],
            "image/png": "[encoded data removed]"
          },
          "metadata": {
            "needs_background": "light"
          }
        }
      ]
    },
    {
      "cell_type": "code",
      "source": [],
      "metadata": {
        "id": "NiC6o1PqxYLa"
      },
      "execution_count": null,
      "outputs": []
    }
  ]
}