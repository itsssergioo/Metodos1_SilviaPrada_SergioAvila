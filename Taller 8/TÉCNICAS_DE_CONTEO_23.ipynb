{
  "nbformat": 4,
  "nbformat_minor": 0,
  "metadata": {
    "colab": {
      "provenance": []
    },
    "kernelspec": {
      "name": "python3",
      "display_name": "Python 3"
    },
    "language_info": {
      "name": "python"
    }
  },
  "cells": [
    {
      "cell_type": "code",
      "source": [
        "import numpy as np\n",
        "\n",
        "r=4\n",
        "n=3\n",
        "distribución= (np.math.factorial(r+n-1))/((np.math.factorial(r))*(np.math.factorial(n-1)))\n",
        "\n",
        "total=distribución-3\n",
        "total"
      ],
      "metadata": {
        "colab": {
          "base_uri": "https://localhost:8080/"
        },
        "id": "a673ze52DN0w",
        "outputId": "a7d18512-58b4-408f-90ae-59353b2067bc"
      },
      "execution_count": 22,
      "outputs": [
        {
          "output_type": "execute_result",
          "data": {
            "text/plain": [
              "12.0"
            ]
          },
          "metadata": {},
          "execution_count": 22
        }
      ]
    }
  ]
}