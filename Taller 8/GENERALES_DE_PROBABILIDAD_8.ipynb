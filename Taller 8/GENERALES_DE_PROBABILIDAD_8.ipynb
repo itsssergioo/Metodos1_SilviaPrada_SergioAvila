{
  "nbformat": 4,
  "nbformat_minor": 0,
  "metadata": {
    "colab": {
      "provenance": []
    },
    "kernelspec": {
      "name": "python3",
      "display_name": "Python 3"
    },
    "language_info": {
      "name": "python"
    }
  },
  "cells": [
    {
      "cell_type": "code",
      "execution_count": 1,
      "metadata": {
        "id": "ysLnHVLx_wJs"
      },
      "outputs": [],
      "source": [
        "import numpy as np\n",
        "import matplotlib.pyplot as plt"
      ]
    },
    {
      "cell_type": "code",
      "source": [
        "num = int(1e5)\n",
        "mon = 4\n",
        "\n",
        "sucesos = [-1,1] #sello = -1, cara = 1\n",
        "\n",
        "resul = np.zeros((num,mon))\n",
        "\n",
        "for i in range(num):\n",
        "    \n",
        "    exp = np.random.choice(sucesos,mon)\n",
        "    resul[i] = exp"
      ],
      "metadata": {
        "id": "ZWc4zes9_1bA"
      },
      "execution_count": 4,
      "outputs": []
    },
    {
      "cell_type": "code",
      "source": [
        "s = 0\n",
        "\n",
        "for i in range(len(resul)):\n",
        "    \n",
        "    caras = 0\n",
        "    \n",
        "    for j in range(mon):\n",
        "        \n",
        "        if resul[i][j] == 1:\n",
        "            caras += 1\n",
        "            \n",
        "    if caras == 2:\n",
        "        s += 1\n",
        "print(s/num)"
      ],
      "metadata": {
        "colab": {
          "base_uri": "https://localhost:8080/"
        },
        "id": "PNBJwfS8_6c8",
        "outputId": "6b3e33ca-4b27-44d2-af84-1f0e067f4ccd"
      },
      "execution_count": 5,
      "outputs": [
        {
          "output_type": "stream",
          "name": "stdout",
          "text": [
            "0.37409\n"
          ]
        }
      ]
    }
  ]
}