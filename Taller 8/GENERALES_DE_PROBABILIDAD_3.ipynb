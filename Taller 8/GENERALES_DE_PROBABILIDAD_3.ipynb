{
  "nbformat": 4,
  "nbformat_minor": 0,
  "metadata": {
    "colab": {
      "provenance": []
    },
    "kernelspec": {
      "name": "python3",
      "display_name": "Python 3"
    },
    "language_info": {
      "name": "python"
    }
  },
  "cells": [
    {
      "cell_type": "code",
      "execution_count": 10,
      "metadata": {
        "id": "qgvs8OjAC_SJ"
      },
      "outputs": [],
      "source": [
        "Diario= 60/100\n",
        "Cable = 80/100\n",
        "Ambas = 50/100"
      ]
    },
    {
      "cell_type": "code",
      "source": [
        "calc = (Diario+Cable)-Ambas"
      ],
      "metadata": {
        "id": "a673ze52DN0w"
      },
      "execution_count": 11,
      "outputs": []
    },
    {
      "cell_type": "code",
      "source": [
        "print('probabilidad suscripción a uno de los servicios = ' + str(round(PUDS,2)))"
      ],
      "metadata": {
        "colab": {
          "base_uri": "https://localhost:8080/"
        },
        "id": "4VaMLmn1DOme",
        "outputId": "2808c4dd-c63f-4e20-c2dc-6af48d81d343"
      },
      "execution_count": 12,
      "outputs": [
        {
          "output_type": "stream",
          "name": "stdout",
          "text": [
            "probabilidad suscripción a uno de los servicios = 0.9\n"
          ]
        }
      ]
    },
    {
      "cell_type": "code",
      "source": [
        "sol1 = calc-Diario\n",
        "sol2 = calc-Cable\n",
        "probabilidad = sol1+sol2\n",
        "probabilidad"
      ],
      "metadata": {
        "colab": {
          "base_uri": "https://localhost:8080/"
        },
        "id": "Bi4_F9CVDQ61",
        "outputId": "7baa3c45-2885-4ee1-cb04-dde6b91499e5"
      },
      "execution_count": 13,
      "outputs": [
        {
          "output_type": "execute_result",
          "data": {
            "text/plain": [
              "0.3999999999999998"
            ]
          },
          "metadata": {},
          "execution_count": 13
        }
      ]
    },
    {
      "cell_type": "code",
      "source": [
        "print('probabilidad de suscripción al diario o al cable, pero no a ambos = \\n' + \n",
        "      str(round(probabilidad,2)))"
      ],
      "metadata": {
        "colab": {
          "base_uri": "https://localhost:8080/"
        },
        "id": "j5rB55zDDTS2",
        "outputId": "07e6f99a-bac3-4d5e-9a7d-f0995e9a1e02"
      },
      "execution_count": 14,
      "outputs": [
        {
          "output_type": "stream",
          "name": "stdout",
          "text": [
            "probabilidad de suscripción al diario o al cable, pero no a ambos = \n",
            "0.4\n"
          ]
        }
      ]
    }
  ]
}