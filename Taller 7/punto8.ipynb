{
  "nbformat": 4,
  "nbformat_minor": 0,
  "metadata": {
    "colab": {
      "provenance": []
    },
    "kernelspec": {
      "name": "python3",
      "display_name": "Python 3"
    },
    "language_info": {
      "name": "python"
    }
  },
  "cells": [
    {
      "cell_type": "code",
      "execution_count": 13,
      "metadata": {
        "colab": {
          "base_uri": "https://localhost:8080/"
        },
        "id": "sEugT3J6g6f6",
        "outputId": "c4869c44-35fe-47a5-d996-13b15e138d7c"
      },
      "outputs": [
        {
          "output_type": "stream",
          "name": "stdout",
          "text": [
            "[-2  3  4  0]\n",
            "[-2  3  4  0]\n"
          ]
        }
      ],
      "source": [
        "#metodo de minimos cuadrados#\n",
        "\n",
        "import numpy as np\n",
        "\n",
        "X=np.array([[3,1,0,1],[1,2,1,1],[-1,0,2,-1]])\n",
        "Y= np.transpose(X)\n",
        "x = np.array([-3,-3,8,9])\n",
        "Xx= X@x\n",
        "XY= X@Y\n",
        "xsol = np.linalg.solve(XY,Xx)\n",
        "respuesta = Y@xsol\n",
        "\n",
        "Z=np.array([0,0,0,0])\n",
        "for i in range(0,len(respuesta)):\n",
        "    Z[i]= np.round(respuesta[i],1)\n",
        "    \n",
        "print(Z)\n",
        "\n",
        "#metodo de Gram-Schmidt#\n",
        "\n",
        "a,b=X.shape\n",
        "U=np.zeros((a,b))\n",
        "U[0]=X[0]\n",
        "\n",
        "A = np.zeros((a,b))\n",
        "for i in range(0,a):\n",
        "    norma = np.sqrt(np.dot(U[i],U[i]))\n",
        "    A[i] = U[i]/norma\n",
        "\n",
        "    for i in range(1,a):\n",
        "       U[i]=X[i]\n",
        "       for j in range(i):\n",
        "          U[i]=U[i]-((np.dot(X[i],U[j])/np.dot(U[j],U[j]))*U[j])\n",
        "\n",
        "Y1 = np.transpose(A)\n",
        "Ax = A@x\n",
        "AY1 = A@Y1\n",
        "xsol2 = np.linalg.solve(AY1, Ax)\n",
        "res1 = A1@xsol2\n",
        "\n",
        "K=np.array([0,0,0,0])\n",
        "for i in range(0,len(res1)):\n",
        "    K[i]= np.round(res1[i],1)\n",
        "\n",
        "print(K)\n"
      ]
    }
  ]
}